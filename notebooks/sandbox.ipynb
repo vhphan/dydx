{
 "cells": [
  {
   "cell_type": "code",
   "execution_count": 3,
   "id": "20dabdfa",
   "metadata": {},
   "outputs": [
    {
     "name": "stdout",
     "output_type": "stream",
     "text": [
      "/home/vhphan/projects/dydx/notebooks\n"
     ]
    }
   ],
   "source": [
    "!pwd"
   ]
  },
  {
   "cell_type": "code",
   "execution_count": 4,
   "id": "836b4e71",
   "metadata": {},
   "outputs": [
    {
     "name": "stdout",
     "output_type": "stream",
     "text": [
      "/home/vhphan/projects/dydx\n"
     ]
    }
   ],
   "source": [
    "%cd .."
   ]
  },
  {
   "cell_type": "code",
   "execution_count": 12,
   "id": "02451ea1",
   "metadata": {},
   "outputs": [
    {
     "name": "stdout",
     "output_type": "stream",
     "text": [
      "Connection Successful\n",
      "Account ID:  536dc000-e272-503f-9d49-eeb13b8a9a6a\n",
      "Quote Balance:  2000.000000\n"
     ]
    }
   ],
   "source": [
    "from program.trading_bot import TradingBot\n",
    "\n",
    "\n",
    "bot = TradingBot()\n",
    "# bot.run()\n"
   ]
  },
  {
   "cell_type": "code",
   "execution_count": 13,
   "id": "ba4968bb",
   "metadata": {},
   "outputs": [
    {
     "name": "stdout",
     "output_type": "stream",
     "text": [
      "None\n"
     ]
    }
   ],
   "source": [
    "candles = bot.get_candles_recent('BTC-USD')\n",
    "print(candles)"
   ]
  },
  {
   "cell_type": "code",
   "execution_count": 9,
   "id": "995cf7f8",
   "metadata": {},
   "outputs": [],
   "source": [
    "candles"
   ]
  },
  {
   "cell_type": "code",
   "execution_count": 8,
   "id": "12d43ff2",
   "metadata": {},
   "outputs": [
    {
     "ename": "TypeError",
     "evalue": "'NoneType' object is not subscriptable",
     "output_type": "error",
     "traceback": [
      "\u001b[0;31m---------------------------------------------------------------------------\u001b[0m",
      "\u001b[0;31mTypeError\u001b[0m                                 Traceback (most recent call last)",
      "Cell \u001b[0;32mIn[8], line 1\u001b[0m\n\u001b[0;32m----> 1\u001b[0m \u001b[39mtype\u001b[39m(candles[\u001b[39m0\u001b[39;49m][\u001b[39m'\u001b[39m\u001b[39mstartedAt\u001b[39m\u001b[39m'\u001b[39m])\n",
      "\u001b[0;31mTypeError\u001b[0m: 'NoneType' object is not subscriptable"
     ]
    }
   ],
   "source": [
    "type(candles[0]['startedAt'])"
   ]
  },
  {
   "cell_type": "code",
   "execution_count": 29,
   "metadata": {},
   "outputs": [
    {
     "data": {
      "text/html": [
       "<div>\n",
       "<style scoped>\n",
       "    .dataframe tbody tr th:only-of-type {\n",
       "        vertical-align: middle;\n",
       "    }\n",
       "\n",
       "    .dataframe tbody tr th {\n",
       "        vertical-align: top;\n",
       "    }\n",
       "\n",
       "    .dataframe thead th {\n",
       "        text-align: right;\n",
       "    }\n",
       "</style>\n",
       "<table border=\"1\" class=\"dataframe\">\n",
       "  <thead>\n",
       "    <tr style=\"text-align: right;\">\n",
       "      <th></th>\n",
       "      <th>startedAt</th>\n",
       "      <th>updatedAt</th>\n",
       "      <th>market</th>\n",
       "      <th>resolution</th>\n",
       "      <th>low</th>\n",
       "      <th>high</th>\n",
       "      <th>open</th>\n",
       "      <th>close</th>\n",
       "      <th>baseTokenVolume</th>\n",
       "      <th>trades</th>\n",
       "      <th>usdVolume</th>\n",
       "      <th>startingOpenInterest</th>\n",
       "    </tr>\n",
       "  </thead>\n",
       "  <tbody>\n",
       "    <tr>\n",
       "      <th>0</th>\n",
       "      <td>2023-08-15T04:00:00.000Z</td>\n",
       "      <td>2023-08-15T04:00:00.000Z</td>\n",
       "      <td>BTC-USD</td>\n",
       "      <td>1HOUR</td>\n",
       "      <td>29408</td>\n",
       "      <td>29408</td>\n",
       "      <td>29408</td>\n",
       "      <td>29408</td>\n",
       "      <td>0</td>\n",
       "      <td>0</td>\n",
       "      <td>0</td>\n",
       "      <td>1001.6772</td>\n",
       "    </tr>\n",
       "    <tr>\n",
       "      <th>1</th>\n",
       "      <td>2023-08-15T03:00:00.000Z</td>\n",
       "      <td>2023-08-15T03:12:06.982Z</td>\n",
       "      <td>BTC-USD</td>\n",
       "      <td>1HOUR</td>\n",
       "      <td>29335</td>\n",
       "      <td>29409</td>\n",
       "      <td>29335</td>\n",
       "      <td>29408</td>\n",
       "      <td>3.7112</td>\n",
       "      <td>19</td>\n",
       "      <td>109095.5965</td>\n",
       "      <td>998.9149</td>\n",
       "    </tr>\n",
       "    <tr>\n",
       "      <th>2</th>\n",
       "      <td>2023-08-15T02:00:00.000Z</td>\n",
       "      <td>2023-08-15T02:11:42.126Z</td>\n",
       "      <td>BTC-USD</td>\n",
       "      <td>1HOUR</td>\n",
       "      <td>29356</td>\n",
       "      <td>29415</td>\n",
       "      <td>29358</td>\n",
       "      <td>29356</td>\n",
       "      <td>0.074</td>\n",
       "      <td>3</td>\n",
       "      <td>2175.91</td>\n",
       "      <td>998.8689</td>\n",
       "    </tr>\n",
       "    <tr>\n",
       "      <th>3</th>\n",
       "      <td>2023-08-15T01:00:00.000Z</td>\n",
       "      <td>2023-08-15T01:23:46.912Z</td>\n",
       "      <td>BTC-USD</td>\n",
       "      <td>1HOUR</td>\n",
       "      <td>29439</td>\n",
       "      <td>29439</td>\n",
       "      <td>29439</td>\n",
       "      <td>29439</td>\n",
       "      <td>0.004</td>\n",
       "      <td>1</td>\n",
       "      <td>117.756</td>\n",
       "      <td>998.8649</td>\n",
       "    </tr>\n",
       "    <tr>\n",
       "      <th>4</th>\n",
       "      <td>2023-08-15T00:00:00.000Z</td>\n",
       "      <td>2023-08-15T00:23:56.634Z</td>\n",
       "      <td>BTC-USD</td>\n",
       "      <td>1HOUR</td>\n",
       "      <td>29395</td>\n",
       "      <td>29465</td>\n",
       "      <td>29396</td>\n",
       "      <td>29409</td>\n",
       "      <td>0.1202</td>\n",
       "      <td>29</td>\n",
       "      <td>3536.6121</td>\n",
       "      <td>998.8649</td>\n",
       "    </tr>\n",
       "    <tr>\n",
       "      <th>...</th>\n",
       "      <td>...</td>\n",
       "      <td>...</td>\n",
       "      <td>...</td>\n",
       "      <td>...</td>\n",
       "      <td>...</td>\n",
       "      <td>...</td>\n",
       "      <td>...</td>\n",
       "      <td>...</td>\n",
       "      <td>...</td>\n",
       "      <td>...</td>\n",
       "      <td>...</td>\n",
       "      <td>...</td>\n",
       "    </tr>\n",
       "    <tr>\n",
       "      <th>95</th>\n",
       "      <td>2023-08-11T05:00:00.000Z</td>\n",
       "      <td>2023-08-11T05:58:52.515Z</td>\n",
       "      <td>BTC-USD</td>\n",
       "      <td>1HOUR</td>\n",
       "      <td>29349</td>\n",
       "      <td>29454</td>\n",
       "      <td>29349</td>\n",
       "      <td>29454</td>\n",
       "      <td>10.6637</td>\n",
       "      <td>15</td>\n",
       "      <td>313710.6264</td>\n",
       "      <td>934.9720</td>\n",
       "    </tr>\n",
       "    <tr>\n",
       "      <th>96</th>\n",
       "      <td>2023-08-11T04:00:00.000Z</td>\n",
       "      <td>2023-08-11T04:56:24.763Z</td>\n",
       "      <td>BTC-USD</td>\n",
       "      <td>1HOUR</td>\n",
       "      <td>29365</td>\n",
       "      <td>29384</td>\n",
       "      <td>29372</td>\n",
       "      <td>29365</td>\n",
       "      <td>0.014</td>\n",
       "      <td>4</td>\n",
       "      <td>411.228</td>\n",
       "      <td>934.9780</td>\n",
       "    </tr>\n",
       "    <tr>\n",
       "      <th>97</th>\n",
       "      <td>2023-08-11T03:00:00.000Z</td>\n",
       "      <td>2023-08-11T03:59:56.119Z</td>\n",
       "      <td>BTC-USD</td>\n",
       "      <td>1HOUR</td>\n",
       "      <td>29352</td>\n",
       "      <td>29414</td>\n",
       "      <td>29352</td>\n",
       "      <td>29414</td>\n",
       "      <td>0.0172</td>\n",
       "      <td>3</td>\n",
       "      <td>505.1762</td>\n",
       "      <td>934.9680</td>\n",
       "    </tr>\n",
       "    <tr>\n",
       "      <th>98</th>\n",
       "      <td>2023-08-11T02:00:00.000Z</td>\n",
       "      <td>2023-08-11T02:57:57.341Z</td>\n",
       "      <td>BTC-USD</td>\n",
       "      <td>1HOUR</td>\n",
       "      <td>29350</td>\n",
       "      <td>29398</td>\n",
       "      <td>29359</td>\n",
       "      <td>29350</td>\n",
       "      <td>0.0282</td>\n",
       "      <td>4</td>\n",
       "      <td>828.4321</td>\n",
       "      <td>934.9398</td>\n",
       "    </tr>\n",
       "    <tr>\n",
       "      <th>99</th>\n",
       "      <td>2023-08-11T01:00:00.000Z</td>\n",
       "      <td>2023-08-11T01:42:02.950Z</td>\n",
       "      <td>BTC-USD</td>\n",
       "      <td>1HOUR</td>\n",
       "      <td>29413</td>\n",
       "      <td>29424</td>\n",
       "      <td>29413</td>\n",
       "      <td>29424</td>\n",
       "      <td>0.0068</td>\n",
       "      <td>2</td>\n",
       "      <td>200.0458</td>\n",
       "      <td>934.9398</td>\n",
       "    </tr>\n",
       "  </tbody>\n",
       "</table>\n",
       "<p>100 rows × 12 columns</p>\n",
       "</div>"
      ],
      "text/plain": [
       "                   startedAt                 updatedAt   market resolution  \\\n",
       "0   2023-08-15T04:00:00.000Z  2023-08-15T04:00:00.000Z  BTC-USD      1HOUR   \n",
       "1   2023-08-15T03:00:00.000Z  2023-08-15T03:12:06.982Z  BTC-USD      1HOUR   \n",
       "2   2023-08-15T02:00:00.000Z  2023-08-15T02:11:42.126Z  BTC-USD      1HOUR   \n",
       "3   2023-08-15T01:00:00.000Z  2023-08-15T01:23:46.912Z  BTC-USD      1HOUR   \n",
       "4   2023-08-15T00:00:00.000Z  2023-08-15T00:23:56.634Z  BTC-USD      1HOUR   \n",
       "..                       ...                       ...      ...        ...   \n",
       "95  2023-08-11T05:00:00.000Z  2023-08-11T05:58:52.515Z  BTC-USD      1HOUR   \n",
       "96  2023-08-11T04:00:00.000Z  2023-08-11T04:56:24.763Z  BTC-USD      1HOUR   \n",
       "97  2023-08-11T03:00:00.000Z  2023-08-11T03:59:56.119Z  BTC-USD      1HOUR   \n",
       "98  2023-08-11T02:00:00.000Z  2023-08-11T02:57:57.341Z  BTC-USD      1HOUR   \n",
       "99  2023-08-11T01:00:00.000Z  2023-08-11T01:42:02.950Z  BTC-USD      1HOUR   \n",
       "\n",
       "      low   high   open  close baseTokenVolume trades    usdVolume  \\\n",
       "0   29408  29408  29408  29408               0      0            0   \n",
       "1   29335  29409  29335  29408          3.7112     19  109095.5965   \n",
       "2   29356  29415  29358  29356           0.074      3      2175.91   \n",
       "3   29439  29439  29439  29439           0.004      1      117.756   \n",
       "4   29395  29465  29396  29409          0.1202     29    3536.6121   \n",
       "..    ...    ...    ...    ...             ...    ...          ...   \n",
       "95  29349  29454  29349  29454         10.6637     15  313710.6264   \n",
       "96  29365  29384  29372  29365           0.014      4      411.228   \n",
       "97  29352  29414  29352  29414          0.0172      3     505.1762   \n",
       "98  29350  29398  29359  29350          0.0282      4     828.4321   \n",
       "99  29413  29424  29413  29424          0.0068      2     200.0458   \n",
       "\n",
       "   startingOpenInterest  \n",
       "0             1001.6772  \n",
       "1              998.9149  \n",
       "2              998.8689  \n",
       "3              998.8649  \n",
       "4              998.8649  \n",
       "..                  ...  \n",
       "95             934.9720  \n",
       "96             934.9780  \n",
       "97             934.9680  \n",
       "98             934.9398  \n",
       "99             934.9398  \n",
       "\n",
       "[100 rows x 12 columns]"
      ]
     },
     "execution_count": 29,
     "metadata": {},
     "output_type": "execute_result"
    }
   ],
   "source": [
    "import pandas as pd\n",
    "\n",
    "pd.DataFrame(candles)"
   ]
  },
  {
   "cell_type": "code",
   "execution_count": 7,
   "metadata": {},
   "outputs": [
    {
     "ename": "AttributeError",
     "evalue": "'NoneType' object has no attribute 'sort'",
     "output_type": "error",
     "traceback": [
      "\u001b[0;31m---------------------------------------------------------------------------\u001b[0m",
      "\u001b[0;31mAttributeError\u001b[0m                            Traceback (most recent call last)",
      "Cell \u001b[0;32mIn[7], line 3\u001b[0m\n\u001b[1;32m      1\u001b[0m sort\u001b[39m=\u001b[39m\u001b[39m'\u001b[39m\u001b[39mDESC\u001b[39m\u001b[39m'\u001b[39m\n\u001b[0;32m----> 3\u001b[0m candles\u001b[39m.\u001b[39;49msort(key\u001b[39m=\u001b[39m\u001b[39mlambda\u001b[39;00m x: x[\u001b[39m\"\u001b[39m\u001b[39mstartedAt\u001b[39m\u001b[39m\"\u001b[39m], \n\u001b[1;32m      4\u001b[0m                                             reverse\u001b[39m=\u001b[39msort \u001b[39m==\u001b[39m \u001b[39m\"\u001b[39m\u001b[39mDESC\u001b[39m\u001b[39m\"\u001b[39m)\n",
      "\u001b[0;31mAttributeError\u001b[0m: 'NoneType' object has no attribute 'sort'"
     ]
    }
   ],
   "source": [
    "sort='DESC'\n",
    "\n",
    "candles.sort(key=lambda x: x[\"startedAt\"], \n",
    "                                            reverse=sort == \"DESC\")"
   ]
  },
  {
   "cell_type": "code",
   "execution_count": null,
   "metadata": {},
   "outputs": [],
   "source": []
  },
  {
   "cell_type": "code",
   "execution_count": null,
   "id": "9791d0ee",
   "metadata": {},
   "outputs": [],
   "source": []
  },
  {
   "cell_type": "code",
   "execution_count": null,
   "id": "260dc4d4",
   "metadata": {},
   "outputs": [],
   "source": []
  },
  {
   "cell_type": "code",
   "execution_count": null,
   "id": "db85a1f1",
   "metadata": {},
   "outputs": [],
   "source": []
  }
 ],
 "metadata": {
  "kernelspec": {
   "display_name": "Python 3",
   "language": "python",
   "name": "python3"
  },
  "language_info": {
   "codemirror_mode": {
    "name": "ipython",
    "version": 3
   },
   "file_extension": ".py",
   "mimetype": "text/x-python",
   "name": "python",
   "nbconvert_exporter": "python",
   "pygments_lexer": "ipython3",
   "version": "3.10.12"
  }
 },
 "nbformat": 4,
 "nbformat_minor": 5
}
